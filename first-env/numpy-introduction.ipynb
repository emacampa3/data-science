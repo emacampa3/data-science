{
 "cells": [
  {
   "cell_type": "code",
   "execution_count": 19,
   "id": "24a764b3",
   "metadata": {},
   "outputs": [],
   "source": [
    "import numpy as np"
   ]
  },
  {
   "cell_type": "markdown",
   "id": "5fe1d19c",
   "metadata": {},
   "source": [
    "### DataTypes & Attributes"
   ]
  },
  {
   "cell_type": "code",
   "execution_count": 31,
   "id": "34bcfac9",
   "metadata": {},
   "outputs": [
    {
     "data": {
      "text/plain": [
       "array([1, 2, 3])"
      ]
     },
     "execution_count": 31,
     "metadata": {},
     "output_type": "execute_result"
    }
   ],
   "source": [
    "# NumPy's main datatype is ndarray\n",
    "a1 = np.array([1,2,3])\n",
    "a1 # 1 row, 3 columns: vector"
   ]
  },
  {
   "cell_type": "code",
   "execution_count": 33,
   "id": "7013057e",
   "metadata": {},
   "outputs": [],
   "source": [
    "a2 = np.array([[1,2,3],\n",
    "              [4,5,6]])\n",
    "\n",
    "a3 = ([[[1,2,3],\n",
    "        [4,5,6],\n",
    "        [7,8,9]]])"
   ]
  },
  {
   "cell_type": "code",
   "execution_count": 34,
   "id": "e05ca258",
   "metadata": {},
   "outputs": [
    {
     "data": {
      "text/plain": [
       "array([[1, 2, 3],\n",
       "       [4, 5, 6]])"
      ]
     },
     "execution_count": 34,
     "metadata": {},
     "output_type": "execute_result"
    }
   ],
   "source": [
    "a2 # 2 rows, 3 columns: matrix"
   ]
  },
  {
   "cell_type": "code",
   "execution_count": 35,
   "id": "c1e50d65",
   "metadata": {},
   "outputs": [
    {
     "data": {
      "text/plain": [
       "[[[1, 2, 3], [4, 5, 6], [7, 8, 9]]]"
      ]
     },
     "execution_count": 35,
     "metadata": {},
     "output_type": "execute_result"
    }
   ],
   "source": [
    "a3 "
   ]
  },
  {
   "cell_type": "code",
   "execution_count": 7,
   "id": "24c227d0",
   "metadata": {},
   "outputs": [
    {
     "data": {
      "text/plain": [
       "(3,)"
      ]
     },
     "execution_count": 7,
     "metadata": {},
     "output_type": "execute_result"
    }
   ],
   "source": [
    "a1.shape"
   ]
  },
  {
   "cell_type": "code",
   "execution_count": 8,
   "id": "1b009136",
   "metadata": {},
   "outputs": [
    {
     "data": {
      "text/plain": [
       "(2, 3)"
      ]
     },
     "execution_count": 8,
     "metadata": {},
     "output_type": "execute_result"
    }
   ],
   "source": [
    "a2.shape"
   ]
  },
  {
   "cell_type": "code",
   "execution_count": 9,
   "id": "1245c6ef",
   "metadata": {},
   "outputs": [
    {
     "data": {
      "text/plain": [
       "(1, 2)"
      ]
     },
     "execution_count": 9,
     "metadata": {},
     "output_type": "execute_result"
    }
   ],
   "source": [
    "a1.ndim, a2.ndim # number of dimensions"
   ]
  },
  {
   "cell_type": "code",
   "execution_count": 10,
   "id": "9af3f7e5",
   "metadata": {},
   "outputs": [
    {
     "data": {
      "text/plain": [
       "dtype('int64')"
      ]
     },
     "execution_count": 10,
     "metadata": {},
     "output_type": "execute_result"
    }
   ],
   "source": [
    "a1.dtype"
   ]
  },
  {
   "cell_type": "code",
   "execution_count": 11,
   "id": "5d8956ce",
   "metadata": {},
   "outputs": [
    {
     "data": {
      "text/plain": [
       "(3, 6)"
      ]
     },
     "execution_count": 11,
     "metadata": {},
     "output_type": "execute_result"
    }
   ],
   "source": [
    "a1.size, a2.size # total number of elements in an array"
   ]
  },
  {
   "cell_type": "code",
   "execution_count": 12,
   "id": "2e97d51e",
   "metadata": {},
   "outputs": [
    {
     "data": {
      "text/plain": [
       "(numpy.ndarray, numpy.ndarray)"
      ]
     },
     "execution_count": 12,
     "metadata": {},
     "output_type": "execute_result"
    }
   ],
   "source": [
    "type(a1), type(a2) "
   ]
  },
  {
   "cell_type": "code",
   "execution_count": 13,
   "id": "8f37058e",
   "metadata": {},
   "outputs": [
    {
     "data": {
      "text/html": [
       "<div>\n",
       "<style scoped>\n",
       "    .dataframe tbody tr th:only-of-type {\n",
       "        vertical-align: middle;\n",
       "    }\n",
       "\n",
       "    .dataframe tbody tr th {\n",
       "        vertical-align: top;\n",
       "    }\n",
       "\n",
       "    .dataframe thead th {\n",
       "        text-align: right;\n",
       "    }\n",
       "</style>\n",
       "<table border=\"1\" class=\"dataframe\">\n",
       "  <thead>\n",
       "    <tr style=\"text-align: right;\">\n",
       "      <th></th>\n",
       "      <th>0</th>\n",
       "      <th>1</th>\n",
       "      <th>2</th>\n",
       "    </tr>\n",
       "  </thead>\n",
       "  <tbody>\n",
       "    <tr>\n",
       "      <th>0</th>\n",
       "      <td>1</td>\n",
       "      <td>2</td>\n",
       "      <td>3</td>\n",
       "    </tr>\n",
       "    <tr>\n",
       "      <th>1</th>\n",
       "      <td>4</td>\n",
       "      <td>5</td>\n",
       "      <td>6</td>\n",
       "    </tr>\n",
       "  </tbody>\n",
       "</table>\n",
       "</div>"
      ],
      "text/plain": [
       "   0  1  2\n",
       "0  1  2  3\n",
       "1  4  5  6"
      ]
     },
     "execution_count": 13,
     "metadata": {},
     "output_type": "execute_result"
    }
   ],
   "source": [
    "# Create a DataFrame from a NumPy array\n",
    "import pandas as pd\n",
    "\n",
    "df = pd.DataFrame(a2)\n",
    "df"
   ]
  },
  {
   "cell_type": "markdown",
   "id": "76b47a6c",
   "metadata": {},
   "source": [
    "### Creating NumPy array"
   ]
  },
  {
   "cell_type": "code",
   "execution_count": 3,
   "id": "69bd366b",
   "metadata": {},
   "outputs": [
    {
     "data": {
      "text/plain": [
       "array([1, 2, 3])"
      ]
     },
     "execution_count": 3,
     "metadata": {},
     "output_type": "execute_result"
    }
   ],
   "source": [
    "sample_array = np.array([1,2,3])\n",
    "sample_array"
   ]
  },
  {
   "cell_type": "code",
   "execution_count": 8,
   "id": "b14a8a68",
   "metadata": {},
   "outputs": [
    {
     "data": {
      "text/plain": [
       "array([[1., 1., 1.],\n",
       "       [1., 1., 1.]])"
      ]
     },
     "execution_count": 8,
     "metadata": {},
     "output_type": "execute_result"
    }
   ],
   "source": [
    "# returns an array of given shape and type, filles with ones\n",
    "ones = np.ones((2, 3))\n",
    "ones"
   ]
  },
  {
   "cell_type": "code",
   "execution_count": 9,
   "id": "840c3601",
   "metadata": {},
   "outputs": [
    {
     "data": {
      "text/plain": [
       "dtype('float64')"
      ]
     },
     "execution_count": 9,
     "metadata": {},
     "output_type": "execute_result"
    }
   ],
   "source": [
    "ones.dtype # default DataType"
   ]
  },
  {
   "cell_type": "code",
   "execution_count": 11,
   "id": "8ceb6ece",
   "metadata": {},
   "outputs": [
    {
     "data": {
      "text/plain": [
       "array([[0., 0., 0.],\n",
       "       [0., 0., 0.]])"
      ]
     },
     "execution_count": 11,
     "metadata": {},
     "output_type": "execute_result"
    }
   ],
   "source": [
    "# returns an array of given shape and type, filles with zeros \n",
    "# (used as a placeholder array)\n",
    "zeros = np.zeros((2, 3))\n",
    "zeros "
   ]
  },
  {
   "cell_type": "code",
   "execution_count": 12,
   "id": "f301c5e1",
   "metadata": {},
   "outputs": [
    {
     "data": {
      "text/plain": [
       "array([0, 2, 4, 6, 8])"
      ]
     },
     "execution_count": 12,
     "metadata": {},
     "output_type": "execute_result"
    }
   ],
   "source": [
    "range_array = np.arange(0, 10, 2) # (start, stop, step)\n",
    "range_array"
   ]
  },
  {
   "cell_type": "code",
   "execution_count": 13,
   "id": "ecc414dd",
   "metadata": {},
   "outputs": [
    {
     "data": {
      "text/plain": [
       "array([[15,  0,  2,  8, 13],\n",
       "       [ 3,  5, 17,  2, 19],\n",
       "       [ 9,  1, 18, 12, 16]])"
      ]
     },
     "execution_count": 13,
     "metadata": {},
     "output_type": "execute_result"
    }
   ],
   "source": [
    "random_array = np.random.randint(0,20, size=(3,5)) # (low, high)\n",
    "random_array"
   ]
  },
  {
   "cell_type": "code",
   "execution_count": 14,
   "id": "3788c370",
   "metadata": {},
   "outputs": [
    {
     "data": {
      "text/plain": [
       "15"
      ]
     },
     "execution_count": 14,
     "metadata": {},
     "output_type": "execute_result"
    }
   ],
   "source": [
    "random_array.size"
   ]
  },
  {
   "cell_type": "code",
   "execution_count": 15,
   "id": "b0c14798",
   "metadata": {},
   "outputs": [
    {
     "data": {
      "text/plain": [
       "(3, 5)"
      ]
     },
     "execution_count": 15,
     "metadata": {},
     "output_type": "execute_result"
    }
   ],
   "source": [
    "random_array.shape"
   ]
  },
  {
   "cell_type": "code",
   "execution_count": 17,
   "id": "bc05f274",
   "metadata": {},
   "outputs": [
    {
     "data": {
      "text/plain": [
       "array([[0.98683658, 0.51706101, 0.18140538],\n",
       "       [0.40243449, 0.38175186, 0.20340773],\n",
       "       [0.35317929, 0.1957777 , 0.10292158],\n",
       "       [0.097982  , 0.09843272, 0.51966936],\n",
       "       [0.36383991, 0.0662233 , 0.28066361]])"
      ]
     },
     "execution_count": 17,
     "metadata": {},
     "output_type": "execute_result"
    }
   ],
   "source": [
    "# array with (pseudo) random floats between 0 and 1\n",
    "random_array_2 = np.random.random((5,3)) # shape\n",
    "random_array_2"
   ]
  },
  {
   "cell_type": "code",
   "execution_count": 18,
   "id": "3abadccb",
   "metadata": {},
   "outputs": [
    {
     "data": {
      "text/plain": [
       "array([[0.54285469, 0.65857383, 0.01859138],\n",
       "       [0.36881526, 0.56695273, 0.16143781],\n",
       "       [0.18819183, 0.70381319, 0.30515289],\n",
       "       [0.00328164, 0.13202201, 0.51897628],\n",
       "       [0.15361725, 0.70171503, 0.61036922]])"
      ]
     },
     "execution_count": 18,
     "metadata": {},
     "output_type": "execute_result"
    }
   ],
   "source": [
    "# \"random\" floats between 0 and 1\n",
    "random_array_3 = np.random.rand(5,3)\n",
    "random_array_3"
   ]
  },
  {
   "cell_type": "code",
   "execution_count": 24,
   "id": "c5f12d45",
   "metadata": {},
   "outputs": [
    {
     "data": {
      "text/plain": [
       "array([[12, 15, 21],\n",
       "       [ 0,  3,  3],\n",
       "       [ 7,  9, 19]])"
      ]
     },
     "execution_count": 24,
     "metadata": {},
     "output_type": "execute_result"
    }
   ],
   "source": [
    "# Pseudo-random numbers\n",
    "np.random.seed(seed=0) # seed can be any number\n",
    "# array numbers are still \"random\", but reproducible \n",
    "# (rerunning produces the same array)\n",
    "random_array_4 = np.random.randint(25, size=(3,3))\n",
    "random_array_4"
   ]
  },
  {
   "cell_type": "markdown",
   "id": "968110f9",
   "metadata": {},
   "source": [
    "### Viewing arrays and matrices"
   ]
  },
  {
   "cell_type": "code",
   "execution_count": 29,
   "id": "cbd4994f",
   "metadata": {},
   "outputs": [
    {
     "data": {
      "text/plain": [
       "array([ 1,  4,  6, 12, 18, 21, 23, 24])"
      ]
     },
     "execution_count": 29,
     "metadata": {},
     "output_type": "execute_result"
    }
   ],
   "source": [
    "# displays the unique numbers in an array\n",
    "np.unique(random_array_4)"
   ]
  },
  {
   "cell_type": "code",
   "execution_count": 32,
   "id": "eb0b8c6f",
   "metadata": {},
   "outputs": [
    {
     "data": {
      "text/plain": [
       "array([1, 2, 3])"
      ]
     },
     "execution_count": 32,
     "metadata": {},
     "output_type": "execute_result"
    }
   ],
   "source": [
    "a1"
   ]
  },
  {
   "cell_type": "code",
   "execution_count": 36,
   "id": "4b371e90",
   "metadata": {},
   "outputs": [
    {
     "data": {
      "text/plain": [
       "array([[1, 2, 3],\n",
       "       [4, 5, 6]])"
      ]
     },
     "execution_count": 36,
     "metadata": {},
     "output_type": "execute_result"
    }
   ],
   "source": [
    "a2"
   ]
  },
  {
   "cell_type": "code",
   "execution_count": 39,
   "id": "c277aa19",
   "metadata": {},
   "outputs": [
    {
     "data": {
      "text/plain": [
       "array([1, 2, 3])"
      ]
     },
     "execution_count": 39,
     "metadata": {},
     "output_type": "execute_result"
    }
   ],
   "source": [
    "a2[0] # returns the first matrix (row)"
   ]
  },
  {
   "cell_type": "code",
   "execution_count": 40,
   "id": "fb896948",
   "metadata": {},
   "outputs": [
    {
     "data": {
      "text/plain": [
       "array([4, 5, 6])"
      ]
     },
     "execution_count": 40,
     "metadata": {},
     "output_type": "execute_result"
    }
   ],
   "source": [
    "a2[1] # returns the second matrix (row)"
   ]
  },
  {
   "cell_type": "code",
   "execution_count": 42,
   "id": "74dab677",
   "metadata": {},
   "outputs": [
    {
     "data": {
      "text/plain": [
       "array([[1, 2],\n",
       "       [4, 5]])"
      ]
     },
     "execution_count": 42,
     "metadata": {},
     "output_type": "execute_result"
    }
   ],
   "source": [
    "a2[:2, :2] # returns the first two values of each array"
   ]
  },
  {
   "cell_type": "code",
   "execution_count": 43,
   "id": "8ea8766c",
   "metadata": {},
   "outputs": [
    {
     "data": {
      "text/plain": [
       "array([[[[5, 0, 3, 3, 7],\n",
       "         [9, 3, 5, 2, 4],\n",
       "         [7, 6, 8, 8, 1],\n",
       "         [6, 7, 7, 8, 1]],\n",
       "\n",
       "        [[5, 9, 8, 9, 4],\n",
       "         [3, 0, 3, 5, 0],\n",
       "         [2, 3, 8, 1, 3],\n",
       "         [3, 3, 7, 0, 1]],\n",
       "\n",
       "        [[9, 9, 0, 4, 7],\n",
       "         [3, 2, 7, 2, 0],\n",
       "         [0, 4, 5, 5, 6],\n",
       "         [8, 4, 1, 4, 9]]],\n",
       "\n",
       "\n",
       "       [[[8, 1, 1, 7, 9],\n",
       "         [9, 3, 6, 7, 2],\n",
       "         [0, 3, 5, 9, 4],\n",
       "         [4, 6, 4, 4, 3]],\n",
       "\n",
       "        [[4, 4, 8, 4, 3],\n",
       "         [7, 5, 5, 0, 1],\n",
       "         [5, 9, 3, 0, 5],\n",
       "         [0, 1, 2, 4, 2]],\n",
       "\n",
       "        [[0, 3, 2, 0, 7],\n",
       "         [5, 9, 0, 2, 7],\n",
       "         [2, 9, 2, 3, 3],\n",
       "         [2, 3, 4, 1, 2]]]])"
      ]
     },
     "execution_count": 43,
     "metadata": {},
     "output_type": "execute_result"
    }
   ],
   "source": [
    "a4 = np.random.randint(10, size=(2,3,4,5)) \n",
    "a4# 5 values per row, 4 rows per matrix, 3 matrixes, 2 large matrixes"
   ]
  },
  {
   "cell_type": "code",
   "execution_count": 44,
   "id": "726fee51",
   "metadata": {},
   "outputs": [
    {
     "data": {
      "text/plain": [
       "((2, 3, 4, 5), 4)"
      ]
     },
     "execution_count": 44,
     "metadata": {},
     "output_type": "execute_result"
    }
   ],
   "source": [
    "a4.shape, a4.ndim # 4 dimensional array"
   ]
  },
  {
   "cell_type": "code",
   "execution_count": 46,
   "id": "cd59e670",
   "metadata": {},
   "outputs": [
    {
     "data": {
      "text/plain": [
       "array([[[[5, 0],\n",
       "         [9, 3],\n",
       "         [7, 6],\n",
       "         [6, 7]],\n",
       "\n",
       "        [[5, 9],\n",
       "         [3, 0],\n",
       "         [2, 3],\n",
       "         [3, 3]],\n",
       "\n",
       "        [[9, 9],\n",
       "         [3, 2],\n",
       "         [0, 4],\n",
       "         [8, 4]]],\n",
       "\n",
       "\n",
       "       [[[8, 1],\n",
       "         [9, 3],\n",
       "         [0, 3],\n",
       "         [4, 6]],\n",
       "\n",
       "        [[4, 4],\n",
       "         [7, 5],\n",
       "         [5, 9],\n",
       "         [0, 1]],\n",
       "\n",
       "        [[0, 3],\n",
       "         [5, 9],\n",
       "         [2, 9],\n",
       "         [2, 3]]]])"
      ]
     },
     "execution_count": 46,
     "metadata": {},
     "output_type": "execute_result"
    }
   ],
   "source": [
    "# Get the first 2 numbers of the inner most arrays\n",
    "a4[:, :, :, :2]"
   ]
  },
  {
   "cell_type": "markdown",
   "id": "2b4a8f09",
   "metadata": {},
   "source": [
    "### Manipulating & comparing arrays"
   ]
  },
  {
   "cell_type": "markdown",
   "id": "bb526dbd",
   "metadata": {},
   "source": [
    "##### Aritmetic"
   ]
  },
  {
   "cell_type": "code",
   "execution_count": 48,
   "id": "9dc287cc",
   "metadata": {},
   "outputs": [
    {
     "data": {
      "text/plain": [
       "array([1, 2, 3])"
      ]
     },
     "execution_count": 48,
     "metadata": {},
     "output_type": "execute_result"
    }
   ],
   "source": [
    "a1"
   ]
  },
  {
   "cell_type": "code",
   "execution_count": 49,
   "id": "069c009b",
   "metadata": {},
   "outputs": [
    {
     "data": {
      "text/plain": [
       "array([1., 1., 1.])"
      ]
     },
     "execution_count": 49,
     "metadata": {},
     "output_type": "execute_result"
    }
   ],
   "source": [
    "ones = np.ones(3)\n",
    "ones"
   ]
  },
  {
   "cell_type": "code",
   "execution_count": 50,
   "id": "f3a3f985",
   "metadata": {},
   "outputs": [
    {
     "data": {
      "text/plain": [
       "array([2., 3., 4.])"
      ]
     },
     "execution_count": 50,
     "metadata": {},
     "output_type": "execute_result"
    }
   ],
   "source": [
    "a1 + ones # adding elements on the same position in the arrays"
   ]
  },
  {
   "cell_type": "code",
   "execution_count": 51,
   "id": "61e8d1e6",
   "metadata": {},
   "outputs": [
    {
     "data": {
      "text/plain": [
       "array([0., 1., 2.])"
      ]
     },
     "execution_count": 51,
     "metadata": {},
     "output_type": "execute_result"
    }
   ],
   "source": [
    "a1 - ones"
   ]
  },
  {
   "cell_type": "code",
   "execution_count": 52,
   "id": "b25e52e8",
   "metadata": {},
   "outputs": [
    {
     "data": {
      "text/plain": [
       "array([1., 2., 3.])"
      ]
     },
     "execution_count": 52,
     "metadata": {},
     "output_type": "execute_result"
    }
   ],
   "source": [
    "a1 * ones # works, beacuse ones array equals to 1 and that can be multiplied with another array"
   ]
  },
  {
   "cell_type": "code",
   "execution_count": 53,
   "id": "9c1d9063",
   "metadata": {},
   "outputs": [
    {
     "data": {
      "text/plain": [
       "array([[1, 2, 3],\n",
       "       [4, 5, 6]])"
      ]
     },
     "execution_count": 53,
     "metadata": {},
     "output_type": "execute_result"
    }
   ],
   "source": [
    "a2"
   ]
  },
  {
   "cell_type": "code",
   "execution_count": 54,
   "id": "c3da5cdc",
   "metadata": {},
   "outputs": [
    {
     "data": {
      "text/plain": [
       "array([[ 1,  4,  9],\n",
       "       [ 4, 10, 18]])"
      ]
     },
     "execution_count": 54,
     "metadata": {},
     "output_type": "execute_result"
    }
   ],
   "source": [
    "a1 * a2 # multiplying the seperate rows value by value"
   ]
  },
  {
   "cell_type": "code",
   "execution_count": 55,
   "id": "8767380c",
   "metadata": {},
   "outputs": [
    {
     "data": {
      "text/plain": [
       "[[[1, 2, 3], [4, 5, 6], [7, 8, 9]]]"
      ]
     },
     "execution_count": 55,
     "metadata": {},
     "output_type": "execute_result"
    }
   ],
   "source": [
    "a3"
   ]
  },
  {
   "cell_type": "code",
   "execution_count": 56,
   "id": "5c149b99",
   "metadata": {},
   "outputs": [
    {
     "ename": "ValueError",
     "evalue": "operands could not be broadcast together with shapes (2,3) (1,3,3) ",
     "output_type": "error",
     "traceback": [
      "\u001b[0;31m---------------------------------------------------------------------------\u001b[0m",
      "\u001b[0;31mValueError\u001b[0m                                Traceback (most recent call last)",
      "Cell \u001b[0;32mIn[56], line 1\u001b[0m\n\u001b[0;32m----> 1\u001b[0m \u001b[43ma2\u001b[49m\u001b[43m \u001b[49m\u001b[38;5;241;43m*\u001b[39;49m\u001b[43m \u001b[49m\u001b[43ma3\u001b[49m\n",
      "\u001b[0;31mValueError\u001b[0m: operands could not be broadcast together with shapes (2,3) (1,3,3) "
     ]
    }
   ],
   "source": [
    "a2 * a3 # are not the same shape\n",
    "# How to reshape a2 to be compatible with a3? -Answer: a2.reshape(2,3,1)"
   ]
  },
  {
   "cell_type": "code",
   "execution_count": 57,
   "id": "dbc091e3",
   "metadata": {},
   "outputs": [
    {
     "data": {
      "text/plain": [
       "array([1., 2., 3.])"
      ]
     },
     "execution_count": 57,
     "metadata": {},
     "output_type": "execute_result"
    }
   ],
   "source": [
    "# non-floor division: normal division\n",
    "a1 / ones"
   ]
  },
  {
   "cell_type": "code",
   "execution_count": 58,
   "id": "decc73d0",
   "metadata": {},
   "outputs": [
    {
     "data": {
      "text/plain": [
       "array([[1, 1, 1],\n",
       "       [4, 2, 2]])"
      ]
     },
     "execution_count": 58,
     "metadata": {},
     "output_type": "execute_result"
    }
   ],
   "source": [
    "# floor division: removes the decimals (rounds down)\n",
    "a2 // a1"
   ]
  },
  {
   "cell_type": "code",
   "execution_count": 61,
   "id": "e58841ee",
   "metadata": {},
   "outputs": [
    {
     "data": {
      "text/plain": [
       "array([[ 1,  4,  9],\n",
       "       [16, 25, 36]])"
      ]
     },
     "execution_count": 61,
     "metadata": {},
     "output_type": "execute_result"
    }
   ],
   "source": [
    "# a2 to the power of 2\n",
    "a2 ** 2 \n",
    "np.square(a2)"
   ]
  },
  {
   "cell_type": "code",
   "execution_count": 63,
   "id": "bb0b2d4e",
   "metadata": {},
   "outputs": [
    {
     "data": {
      "text/plain": [
       "array([1, 0, 1])"
      ]
     },
     "execution_count": 63,
     "metadata": {},
     "output_type": "execute_result"
    }
   ],
   "source": [
    "a1 % 2 # mod: the remainder left after floor division a2 // 2"
   ]
  },
  {
   "cell_type": "code",
   "execution_count": 64,
   "id": "5a3bdc2d",
   "metadata": {},
   "outputs": [
    {
     "data": {
      "text/plain": [
       "array([ 2.71828183,  7.3890561 , 20.08553692])"
      ]
     },
     "execution_count": 64,
     "metadata": {},
     "output_type": "execute_result"
    }
   ],
   "source": [
    "np.exp(a1) # exponential"
   ]
  },
  {
   "cell_type": "markdown",
   "id": "274f7e8a",
   "metadata": {},
   "source": [
    "##### Aggregation: the formation of number of things into a cluster\n",
    "Performing the same operation on a number of things"
   ]
  },
  {
   "cell_type": "code",
   "execution_count": 65,
   "id": "9287bb26",
   "metadata": {},
   "outputs": [
    {
     "data": {
      "text/plain": [
       "list"
      ]
     },
     "execution_count": 65,
     "metadata": {},
     "output_type": "execute_result"
    }
   ],
   "source": [
    "listy_list = [1,2,3]\n",
    "type(listy_list)"
   ]
  },
  {
   "cell_type": "code",
   "execution_count": 66,
   "id": "f8d953e8",
   "metadata": {},
   "outputs": [
    {
     "data": {
      "text/plain": [
       "6"
      ]
     },
     "execution_count": 66,
     "metadata": {},
     "output_type": "execute_result"
    }
   ],
   "source": [
    "sum(listy_list)"
   ]
  },
  {
   "cell_type": "code",
   "execution_count": 67,
   "id": "ebe5b996",
   "metadata": {},
   "outputs": [
    {
     "data": {
      "text/plain": [
       "6"
      ]
     },
     "execution_count": 67,
     "metadata": {},
     "output_type": "execute_result"
    }
   ],
   "source": [
    "# two ways of doing the same thing\n",
    "sum(a1) # Python method \n",
    "np.sum(a1) # NumPy's method"
   ]
  },
  {
   "cell_type": "markdown",
   "id": "a029394b",
   "metadata": {},
   "source": [
    "Use Python's methods (`sum()`) on Python datatypes.\n",
    "Use NumPy's methods on NumPy arrays (`np.sum()`)."
   ]
  },
  {
   "cell_type": "code",
   "execution_count": 68,
   "id": "43d573d2",
   "metadata": {},
   "outputs": [
    {
     "data": {
      "text/plain": [
       "array([0.52324805, 0.09394051, 0.5759465 , 0.9292962 , 0.31856895,\n",
       "       0.66741038, 0.13179786, 0.7163272 , 0.28940609, 0.18319136,\n",
       "       0.58651293, 0.02010755, 0.82894003, 0.00469548, 0.67781654,\n",
       "       0.27000797, 0.73519402, 0.96218855, 0.24875314, 0.57615733,\n",
       "       0.59204193, 0.57225191, 0.22308163, 0.95274901, 0.44712538,\n",
       "       0.84640867, 0.69947928, 0.29743695, 0.81379782, 0.39650574,\n",
       "       0.8811032 , 0.58127287, 0.88173536, 0.69253159, 0.72525428,\n",
       "       0.50132438, 0.95608363, 0.6439902 , 0.42385505, 0.60639321,\n",
       "       0.0191932 , 0.30157482, 0.66017354, 0.29007761, 0.61801543,\n",
       "       0.4287687 , 0.13547406, 0.29828233, 0.56996491, 0.59087276])"
      ]
     },
     "execution_count": 68,
     "metadata": {},
     "output_type": "execute_result"
    }
   ],
   "source": [
    "# create a massive NumPy array\n",
    "massive_array = np.random.random(100000)\n",
    "massive_array[:50] # viewing the first 50 numbers"
   ]
  },
  {
   "cell_type": "code",
   "execution_count": 69,
   "id": "79c46d41",
   "metadata": {},
   "outputs": [
    {
     "name": "stdout",
     "output_type": "stream",
     "text": [
      "8.59 ms ± 158 µs per loop (mean ± std. dev. of 7 runs, 100 loops each)\n",
      "49.9 µs ± 1.38 µs per loop (mean ± std. dev. of 7 runs, 10,000 loops each)\n"
     ]
    }
   ],
   "source": [
    "# %timeit is used for timing how long line of code is running\n",
    "%timeit sum(massive_array) # Python's sum\n",
    "%timeit np.sum(massive_array) # NumPy's sum"
   ]
  },
  {
   "cell_type": "markdown",
   "id": "ee084177",
   "metadata": {},
   "source": [
    "NumPy's sum is cca 500 times faster than Python's sum"
   ]
  },
  {
   "cell_type": "code",
   "execution_count": 70,
   "id": "3e8a9fed",
   "metadata": {},
   "outputs": [
    {
     "data": {
      "text/plain": [
       "array([[1, 2, 3],\n",
       "       [4, 5, 6]])"
      ]
     },
     "execution_count": 70,
     "metadata": {},
     "output_type": "execute_result"
    }
   ],
   "source": [
    "a2"
   ]
  },
  {
   "cell_type": "markdown",
   "id": "b2422187",
   "metadata": {},
   "source": [
    "##### Mean, Standard deviation & Variance"
   ]
  },
  {
   "cell_type": "code",
   "execution_count": 71,
   "id": "70279fb9",
   "metadata": {},
   "outputs": [
    {
     "data": {
      "text/plain": [
       "3.5"
      ]
     },
     "execution_count": 71,
     "metadata": {},
     "output_type": "execute_result"
    }
   ],
   "source": [
    "np.mean(a2)"
   ]
  },
  {
   "cell_type": "code",
   "execution_count": 72,
   "id": "0060fbe8",
   "metadata": {},
   "outputs": [
    {
     "data": {
      "text/plain": [
       "(6, 1)"
      ]
     },
     "execution_count": 72,
     "metadata": {},
     "output_type": "execute_result"
    }
   ],
   "source": [
    "np.max(a2), np.min(a2)"
   ]
  },
  {
   "cell_type": "code",
   "execution_count": 73,
   "id": "bba3b027",
   "metadata": {},
   "outputs": [
    {
     "data": {
      "text/plain": [
       "1.707825127659933"
      ]
     },
     "execution_count": 73,
     "metadata": {},
     "output_type": "execute_result"
    }
   ],
   "source": [
    "# Standard deviation = a measure of how spread out a group of numbers is from the main (square root of variance)\n",
    "np.std(a2) # over the entire array"
   ]
  },
  {
   "cell_type": "code",
   "execution_count": 74,
   "id": "6b843748",
   "metadata": {},
   "outputs": [
    {
     "data": {
      "text/plain": [
       "2.9166666666666665"
      ]
     },
     "execution_count": 74,
     "metadata": {},
     "output_type": "execute_result"
    }
   ],
   "source": [
    "# Variance = measure of the average degree to which each number is different to the main\n",
    "np.var(a2) \n",
    "# higher variance = wider range of numbers\n",
    "# lower variance = lower range of numbers"
   ]
  },
  {
   "cell_type": "code",
   "execution_count": 75,
   "id": "f2901bec",
   "metadata": {},
   "outputs": [
    {
     "data": {
      "text/plain": [
       "1.707825127659933"
      ]
     },
     "execution_count": 75,
     "metadata": {},
     "output_type": "execute_result"
    }
   ],
   "source": [
    "np.sqrt(np.var(a2)) # equals standard deviation"
   ]
  },
  {
   "cell_type": "code",
   "execution_count": 76,
   "id": "0db8e99e",
   "metadata": {},
   "outputs": [],
   "source": [
    "high_var_array = np.array([1,100,200,300,4000,5000])\n",
    "low_var_array = np.array([2,4,6,8,10])"
   ]
  },
  {
   "cell_type": "code",
   "execution_count": 77,
   "id": "f80f5b7e",
   "metadata": {},
   "outputs": [
    {
     "data": {
      "text/plain": [
       "(4296133.472222221, 8.0)"
      ]
     },
     "execution_count": 77,
     "metadata": {},
     "output_type": "execute_result"
    }
   ],
   "source": [
    "np.var(high_var_array), np.var(low_var_array) # variance of both arrays"
   ]
  },
  {
   "cell_type": "code",
   "execution_count": 78,
   "id": "fe2c38ce",
   "metadata": {},
   "outputs": [
    {
     "data": {
      "text/plain": [
       "(2072.711623024829, 2.8284271247461903)"
      ]
     },
     "execution_count": 78,
     "metadata": {},
     "output_type": "execute_result"
    }
   ],
   "source": [
    "np.std(high_var_array), np.std(low_var_array) # standard deviation of both arrays\n",
    "# 2073: any number is on average 2073 points away from the mean"
   ]
  },
  {
   "cell_type": "code",
   "execution_count": 79,
   "id": "25bf332c",
   "metadata": {},
   "outputs": [
    {
     "data": {
      "text/plain": [
       "(1600.1666666666667, 6.0)"
      ]
     },
     "execution_count": 79,
     "metadata": {},
     "output_type": "execute_result"
    }
   ],
   "source": [
    "np.mean(high_var_array), np.mean(low_var_array) # mean of both arrays"
   ]
  },
  {
   "cell_type": "code",
   "execution_count": 80,
   "id": "218e5882",
   "metadata": {},
   "outputs": [
    {
     "data": {
      "image/png": "[encoded data removed]",
      "text/plain": [
       "<Figure size 640x480 with 1 Axes>"
      ]
     },
     "metadata": {},
     "output_type": "display_data"
    }
   ],
   "source": [
    "%matplotlib inline\n",
    "import matplotlib.pyplot as plt\n",
    "plt.hist(high_var_array)\n",
    "plt.show()"
   ]
  },
  {
   "cell_type": "code",
   "execution_count": 81,
   "id": "9b2e428b",
   "metadata": {},
   "outputs": [
    {
     "data": {
      "image/png": "[encoded data removed]",
      "text/plain": [
       "<Figure size 640x480 with 1 Axes>"
      ]
     },
     "metadata": {},
     "output_type": "display_data"
    }
   ],
   "source": [
    "plt.hist(low_var_array)\n",
    "plt.show()"
   ]
  },
  {
   "cell_type": "markdown",
   "id": "079055ff",
   "metadata": {},
   "source": [
    "##### Reshaping & transposing"
   ]
  },
  {
   "cell_type": "markdown",
   "id": "0255d7a3",
   "metadata": {},
   "source": [
    "Reshape"
   ]
  },
  {
   "cell_type": "code",
   "execution_count": 83,
   "id": "3f97360b",
   "metadata": {},
   "outputs": [
    {
     "data": {
      "text/plain": [
       "(array([[1, 2, 3],\n",
       "        [4, 5, 6]]),\n",
       " (2, 3))"
      ]
     },
     "execution_count": 83,
     "metadata": {},
     "output_type": "execute_result"
    }
   ],
   "source": [
    "a2, a2.shape"
   ]
  },
  {
   "cell_type": "code",
   "execution_count": null,
   "id": "70c586c9",
   "metadata": {},
   "outputs": [],
   "source": [
    "a2 * a3 # not possible without reshaping"
   ]
  },
  {
   "cell_type": "code",
   "execution_count": 85,
   "id": "0fcf3935",
   "metadata": {},
   "outputs": [
    {
     "data": {
      "text/plain": [
       "array([[[1],\n",
       "        [2],\n",
       "        [3]],\n",
       "\n",
       "       [[4],\n",
       "        [5],\n",
       "        [6]]])"
      ]
     },
     "execution_count": 85,
     "metadata": {},
     "output_type": "execute_result"
    }
   ],
   "source": [
    "# reshaping so that arrays are compatible\n",
    "a2.reshape(2,3,1) "
   ]
  },
  {
   "cell_type": "code",
   "execution_count": 86,
   "id": "cd67e87f",
   "metadata": {},
   "outputs": [
    {
     "data": {
      "text/plain": [
       "array([[[1],\n",
       "        [2],\n",
       "        [3]],\n",
       "\n",
       "       [[4],\n",
       "        [5],\n",
       "        [6]]])"
      ]
     },
     "execution_count": 86,
     "metadata": {},
     "output_type": "execute_result"
    }
   ],
   "source": [
    "a2_reshape = a2.reshape(2,3,1)\n",
    "a2_reshape"
   ]
  },
  {
   "cell_type": "code",
   "execution_count": 87,
   "id": "607ec4d7",
   "metadata": {},
   "outputs": [
    {
     "data": {
      "text/plain": [
       "array([[[ 1,  2,  3],\n",
       "        [ 8, 10, 12],\n",
       "        [21, 24, 27]],\n",
       "\n",
       "       [[ 4,  8, 12],\n",
       "        [20, 25, 30],\n",
       "        [42, 48, 54]]])"
      ]
     },
     "execution_count": 87,
     "metadata": {},
     "output_type": "execute_result"
    }
   ],
   "source": [
    "a2_reshape * a3 # can be multiplied, since arrays are compatible"
   ]
  },
  {
   "cell_type": "markdown",
   "id": "64f9eefa",
   "metadata": {},
   "source": [
    "Transpose swaps the axes (rows become columns and reverse)"
   ]
  },
  {
   "cell_type": "code",
   "execution_count": 89,
   "id": "1aa5f173",
   "metadata": {},
   "outputs": [
    {
     "data": {
      "text/plain": [
       "(array([[1, 2, 3],\n",
       "        [4, 5, 6]]),\n",
       " array([[1, 4],\n",
       "        [2, 5],\n",
       "        [3, 6]]))"
      ]
     },
     "execution_count": 89,
     "metadata": {},
     "output_type": "execute_result"
    }
   ],
   "source": [
    "a2, a2.T"
   ]
  },
  {
   "cell_type": "code",
   "execution_count": null,
   "id": "1cac156b",
   "metadata": {},
   "outputs": [],
   "source": []
  }
 ],
 "metadata": {
  "kernelspec": {
   "display_name": "Python 3 (ipykernel)",
   "language": "python",
   "name": "python3"
  },
  "language_info": {
   "codemirror_mode": {
    "name": "ipython",
    "version": 3
   },
   "file_extension": ".py",
   "mimetype": "text/x-python",
   "name": "python",
   "nbconvert_exporter": "python",
   "pygments_lexer": "ipython3",
   "version": "3.10.9"
  }
 },
 "nbformat": 4,
 "nbformat_minor": 5
}
